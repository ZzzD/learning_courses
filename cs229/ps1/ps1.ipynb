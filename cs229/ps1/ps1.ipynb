{
 "cells": [
  {
   "cell_type": "code",
   "execution_count": 6,
   "metadata": {
    "collapsed": false
   },
   "outputs": [],
   "source": [
    "import numpy as np\n",
    "import matplotlib.pyplot as plt\n",
    "\n",
    "data = np.genfromtxt('quasar_train.csv', delimiter=',')\n",
    "\n",
    "lambd = data[0, :]\n",
    "m = lambd.shape[0]\n",
    "\n",
    "train_set = data[1:, :]\n",
    "test_set = np.genfromtxt('quasar_test.csv', delimiter=',')[1:, :]\n",
    "\n",
    "num_train = train_set.shape[0]\n",
    "num_test = test_set.shape[0]\n",
    "\n",
    "lambd_add_bias = np.vstack(\n",
    "    [np.ones(lambd.shape), lambd]).T\n",
    "first_sample_x = train_set[0, :]\n",
    "\n",
    "\n",
    "smooth_train_set = np.load('smooth_train_set.npy')\n",
    "smooth_test_set = np.load('smooth_test_set.npy')\n",
    "\n",
    "\n",
    "def weight_matrix(index, tau):\n",
    "    return np.diag(np.exp(-np.square(lambd - lambd[index]) / (2 * tau ** 2)))\n",
    "\n",
    "\n",
    "def local_weight_LR(sample):\n",
    "    y_hat = np.zeros((m,))\n",
    "    tau = 5\n",
    "    for i in range(m):\n",
    "        Wi = weight_matrix(i, tau)\n",
    "        theta_i = np.linalg.inv(lambd_add_bias.T.dot(Wi).dot(lambd_add_bias)) \\\n",
    "            .dot(np.dot(lambd_add_bias.T.dot(Wi), sample))\n",
    "        y_hat[i] = theta_i[0] + lambd[i] * theta_i[1]\n",
    "    return y_hat\n",
    "\n",
    "def distance_matrix(dataset):\n",
    "    num = dataset.shape[0]\n",
    "    matrix = np.zeros((num, num_train))\n",
    "    for i in range(num):\n",
    "        matrix[i, :] = np.linalg.norm(smooth_train_set - dataset[i], axis=1)\n",
    "    return matrix / np.amax(matrix, axis=1, keepdims=True)\n",
    "\n",
    "def neighb(k=3, dataset='train'):\n",
    "    if dataset == 'train':\n",
    "        matrix = distance_matrix(smooth_train_set)\n",
    "        k_index = np.argpartition(matrix, range(1, k+1), axis=1)[:, 1:(k + 1)]\n",
    "        ker = 1. - np.partition(matrix, range(1, k+1), axis=1)[:, 1:(k + 1)]\n",
    "    else:\n",
    "        matrix = distance_matrix(smooth_test_set)\n",
    "        k_index = np.argpartition(matrix, k, axis=1)[:, :k]\n",
    "        ker = 1. - np.partition(matrix, k, axis=1)[:, :k]\n",
    "    return k_index, ker"
   ]
  },
  {
   "cell_type": "code",
   "execution_count": 7,
   "metadata": {
    "collapsed": true
   },
   "outputs": [],
   "source": [
    "right_trains = smooth_train_set[:, 150:]\n",
    "left_trains = smooth_train_set[:, :50]\n",
    "right_tests = smooth_test_set[:, 150:]\n",
    "left_tests = smooth_test_set[:, :50]"
   ]
  },
  {
   "cell_type": "code",
   "execution_count": 8,
   "metadata": {
    "collapsed": false
   },
   "outputs": [],
   "source": [
    "k_neighb_index, ker = neighb()\n",
    "f_left_estimates = np.zeros_like(left_trains)"
   ]
  },
  {
   "cell_type": "code",
   "execution_count": 9,
   "metadata": {
    "collapsed": false
   },
   "outputs": [],
   "source": [
    "for i in range(num_train):\n",
    "    f_left_estimates[i] = np.sum(ker[i][:, np.newaxis] * left_trains[k_neighb_index[i]], axis=0) / np.sum(ker[i])"
   ]
  },
  {
   "cell_type": "code",
   "execution_count": 10,
   "metadata": {
    "collapsed": false
   },
   "outputs": [
    {
     "name": "stdout",
     "output_type": "stream",
     "text": [
      "1.1166243835432714\n"
     ]
    }
   ],
   "source": [
    "error_train = np.sum((f_left_estimates - left_trains) ** 2)\n",
    "print(error_train / num_train)"
   ]
  },
  {
   "cell_type": "code",
   "execution_count": 11,
   "metadata": {
    "collapsed": false
   },
   "outputs": [
    {
     "name": "stdout",
     "output_type": "stream",
     "text": [
      "2.476248324916176\n"
     ]
    }
   ],
   "source": [
    "k_test_index, ker_test = neighb(dataset='test')\n",
    "f_left_estimates_test = np.zeros_like(left_tests)\n",
    "\n",
    "for i in range(num_test):\n",
    "    f_left_estimates_test[i] = np.sum(ker[i][:, np.newaxis] * left_trains[k_neighb_index[i]], axis=0) / np.sum(ker[i])\n",
    "\n",
    "error_train = np.sum((f_left_estimates_test - left_tests) ** 2)\n",
    "print(error_train / num_test)"
   ]
  },
  {
   "cell_type": "code",
   "execution_count": 12,
   "metadata": {
    "collapsed": true
   },
   "outputs": [],
   "source": [
    "estimates_stack = np.hstack([f_left_estimates_test, smooth_test_set[:, 50:]])"
   ]
  },
  {
   "cell_type": "code",
   "execution_count": 13,
   "metadata": {
    "collapsed": false
   },
   "outputs": [
    {
     "data": {
      "text/plain": [
       "[<matplotlib.lines.Line2D at 0x7f256c4d63c8>]"
      ]
     },
     "execution_count": 13,
     "metadata": {},
     "output_type": "execute_result"
    },
    {
     "data": {
      "image/png": "[encoded data removed]",
      "text/plain": [
       "<Figure size 432x288 with 1 Axes>"
      ]
     },
     "metadata": {},
     "output_type": "display_data"
    }
   ],
   "source": [
    "plt.plot(lambd, smooth_test_set[0])\n",
    "plt.plot(range(1150, 1200), f_left_estimates_test[0])"
   ]
  },
  {
   "cell_type": "code",
   "execution_count": 14,
   "metadata": {
    "collapsed": false
   },
   "outputs": [
    {
     "ename": "NameError",
     "evalue": "name 'a' is not defined",
     "output_type": "error",
     "traceback": [
      "\u001b[0;31m---------------------------------------------------------------------------\u001b[0m",
      "\u001b[0;31mNameError\u001b[0m                                 Traceback (most recent call last)",
      "\u001b[0;32m<ipython-input-14-eca9546cce74>\u001b[0m in \u001b[0;36m<module>\u001b[0;34m()\u001b[0m\n\u001b[0;32m----> 1\u001b[0;31m \u001b[0mindex\u001b[0m \u001b[0;34m=\u001b[0m \u001b[0mnp\u001b[0m\u001b[0;34m.\u001b[0m\u001b[0mpartition\u001b[0m\u001b[0;34m(\u001b[0m\u001b[0ma\u001b[0m\u001b[0;34m,\u001b[0m \u001b[0;34m[\u001b[0m\u001b[0;36m1\u001b[0m\u001b[0;34m,\u001b[0m\u001b[0;36m2\u001b[0m\u001b[0;34m,\u001b[0m\u001b[0;36m3\u001b[0m\u001b[0;34m]\u001b[0m\u001b[0;34m,\u001b[0m \u001b[0maxis\u001b[0m\u001b[0;34m=\u001b[0m\u001b[0;36m1\u001b[0m\u001b[0;34m)\u001b[0m\u001b[0;34m[\u001b[0m\u001b[0;34m:\u001b[0m\u001b[0;34m,\u001b[0m\u001b[0;36m1\u001b[0m\u001b[0;34m:\u001b[0m\u001b[0;36m4\u001b[0m\u001b[0;34m]\u001b[0m\u001b[0;34m\u001b[0m\u001b[0m\n\u001b[0m\u001b[1;32m      2\u001b[0m \u001b[0mindex\u001b[0m\u001b[0;34m\u001b[0m\u001b[0m\n",
      "\u001b[0;31mNameError\u001b[0m: name 'a' is not defined"
     ]
    }
   ],
   "source": [
    "index = np.partition(a, [1,2,3], axis=1)[:,1:4]\n",
    "index"
   ]
  },
  {
   "cell_type": "code",
   "execution_count": 15,
   "metadata": {
    "collapsed": false
   },
   "outputs": [
    {
     "ename": "NameError",
     "evalue": "name 'a' is not defined",
     "output_type": "error",
     "traceback": [
      "\u001b[0;31m---------------------------------------------------------------------------\u001b[0m",
      "\u001b[0;31mNameError\u001b[0m                                 Traceback (most recent call last)",
      "\u001b[0;32m<ipython-input-15-c8ae61b3e4df>\u001b[0m in \u001b[0;36m<module>\u001b[0;34m()\u001b[0m\n\u001b[0;32m----> 1\u001b[0;31m \u001b[0mnp\u001b[0m\u001b[0;34m.\u001b[0m\u001b[0mmaximum\u001b[0m\u001b[0;34m(\u001b[0m\u001b[0;36m1\u001b[0m \u001b[0;34m-\u001b[0m \u001b[0ma\u001b[0m\u001b[0;34m,\u001b[0m \u001b[0;36m0\u001b[0m\u001b[0;34m)\u001b[0m\u001b[0;34m\u001b[0m\u001b[0m\n\u001b[0m",
      "\u001b[0;31mNameError\u001b[0m: name 'a' is not defined"
     ]
    }
   ],
   "source": [
    "np.maximum(1 - a, 0)"
   ]
  },
  {
   "cell_type": "code",
   "execution_count": 16,
   "metadata": {
    "collapsed": false
   },
   "outputs": [
    {
     "ename": "TypeError",
     "evalue": "tuple indices must be integers or slices, not tuple",
     "output_type": "error",
     "traceback": [
      "\u001b[0;31m---------------------------------------------------------------------------\u001b[0m",
      "\u001b[0;31mTypeError\u001b[0m                                 Traceback (most recent call last)",
      "\u001b[0;32m<ipython-input-16-17b4e180bb33>\u001b[0m in \u001b[0;36m<module>\u001b[0;34m()\u001b[0m\n\u001b[0;32m----> 1\u001b[0;31m \u001b[0mneighb\u001b[0m\u001b[0;34m(\u001b[0m\u001b[0;36m3\u001b[0m\u001b[0;34m)\u001b[0m\u001b[0;34m[\u001b[0m\u001b[0;34m:\u001b[0m\u001b[0;36m10\u001b[0m\u001b[0;34m,\u001b[0m \u001b[0;34m:\u001b[0m\u001b[0;36m4\u001b[0m\u001b[0;34m]\u001b[0m\u001b[0;34m\u001b[0m\u001b[0m\n\u001b[0m",
      "\u001b[0;31mTypeError\u001b[0m: tuple indices must be integers or slices, not tuple"
     ]
    }
   ],
   "source": [
    "neighb(3)[:10, :4]"
   ]
  },
  {
   "cell_type": "code",
   "execution_count": 66,
   "metadata": {
    "collapsed": true
   },
   "outputs": [],
   "source": [
    "mt = distance_matrix(smooth_train_set)"
   ]
  },
  {
   "cell_type": "code",
   "execution_count": 69,
   "metadata": {
    "collapsed": false
   },
   "outputs": [
    {
     "data": {
      "text/plain": [
       "0.0"
      ]
     },
     "execution_count": 69,
     "metadata": {},
     "output_type": "execute_result"
    }
   ],
   "source": [
    "mt[1, 1]"
   ]
  },
  {
   "cell_type": "code",
   "execution_count": null,
   "metadata": {
    "collapsed": true
   },
   "outputs": [],
   "source": []
  }
 ],
 "metadata": {
  "kernelspec": {
   "display_name": "cs231n-as2",
   "language": "python",
   "name": "cs231n-as2"
  },
  "language_info": {
   "codemirror_mode": {
    "name": "ipython",
    "version": 3
   },
   "file_extension": ".py",
   "mimetype": "text/x-python",
   "name": "python",
   "nbconvert_exporter": "python",
   "pygments_lexer": "ipython3",
   "version": "3.6.3"
  }
 },
 "nbformat": 4,
 "nbformat_minor": 2
}
